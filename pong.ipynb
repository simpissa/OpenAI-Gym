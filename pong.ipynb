{
 "cells": [
  {
   "cell_type": "markdown",
   "metadata": {},
   "source": [
    "Tracking activations and gradients"
   ]
  },
  {
   "cell_type": "code",
   "execution_count": 41,
   "metadata": {},
   "outputs": [],
   "source": [
    "import ale_py\n",
    "import shimmy\n",
    "import gymnasium as gym\n",
    "import numpy as np\n",
    "import keyboard\n",
    "import pickle\n",
    "import matplotlib.pyplot as plt"
   ]
  },
  {
   "cell_type": "code",
   "execution_count": 162,
   "metadata": {},
   "outputs": [],
   "source": [
    "lr = 1e-4\n",
    "discount_factor = 0.95\n",
    "episodes = 1"
   ]
  },
  {
   "cell_type": "code",
   "execution_count": 334,
   "metadata": {},
   "outputs": [],
   "source": [
    "class MLP:\n",
    "    def __init__(self, input_len, hidden_layer):\n",
    "        self.W1 = np.random.randn(input_len, hidden_layer) / (input_len**0.5) * 5/3\n",
    "        self.B1 = np.random.randn(hidden_layer) * 0.01\n",
    "        self.W2 = np.random.randn(hidden_layer, 1) / (hidden_layer**0.5) #* 5/3\n",
    "        # self.B2 = np.random.randn(1) * 0.01\n",
    "\n",
    "        self.h = []\n",
    "        self.h2 = []\n",
    "        self.temp = []\n",
    "    def forward(self, x):\n",
    "        hidden2 = x @ self.W1 + self.B1\n",
    "        \n",
    "        hidden = np.tanh(hidden2)\n",
    "        a = hidden @ self.W2\n",
    "\n",
    "        self.temp.append(hidden2)\n",
    "        self.h.append(hidden)\n",
    "        self.h2.append(a.copy())\n",
    "\n",
    "        return 1.0 / (1.0 + np.exp(-a)[0].astype(np.float32)) # sigmoid\n",
    "    \n",
    "    def backprop(self, x, probs, gradients):\n",
    "        self.h = np.array(self.h)\n",
    "        self.h2 = np.array(self.h2)\n",
    "        \n",
    "        gradients *= probs * (1-probs) # (batch, 1)\n",
    "        # self.dB2 = gradients.sum(0) # (batch, 1).sum(0) = (1)\n",
    "        self.dW2 = self.h.transpose() @ gradients # (200, batch) @ (batch, 1) = (200, 1)\n",
    "        # self.dW2 /= 5*self.dW2.std()\n",
    "        gradients = gradients @ self.W2.transpose() * (1-self.h**2)# (batch, 1) @ (1, 200) = (batch, 200)\n",
    "        self.dB1 = gradients.sum(0) # (batch, 200).sum(0) = (200)\n",
    "        self.dW1 = x.transpose() @ gradients # (6400, batch) @ (batch, 200)\n",
    "        # self.dW1 /= 5*self.dW1.std()\n",
    "        self.W1 -= lr * self.dW1\n",
    "        self.B1 -= lr * self.dB1\n",
    "        self.W2 -= lr * self.dW2\n",
    "        # self.B2 -= lr * self.dB2\n",
    "\n",
    "    def choose_action(self, observation):\n",
    "        prob = self.forward(np.array(observation)) # probability of moving down\n",
    "        if np.random.uniform() > prob:\n",
    "            return 2, prob # up \n",
    "        else:\n",
    "            return 3, prob # down\n",
    "\n",
    "    def reset_grad(self):\n",
    "        # h1 = np.array(self.h)\n",
    "        # h2 = np.array(self.h2)\n",
    "        # h3 = np.array(self.temp)\n",
    "        self.h = []\n",
    "        self.h2 = []\n",
    "        self.temp = []"
   ]
  },
  {
   "cell_type": "code",
   "execution_count": 328,
   "metadata": {},
   "outputs": [],
   "source": [
    "def preprocess(frame):\n",
    "    # erase everything except ball and paddles\n",
    "    frame = frame[34:193]\n",
    "    frame = frame[::2, ::2]\n",
    "    frame[frame==87] = 0\n",
    "    frame[frame!=0] = 1\n",
    "\n",
    "    return np.ravel(frame).astype(np.float32)\n",
    "\n",
    "def discount_gradients(gradients):\n",
    "    x = 1.0\n",
    "    for i in range(len(gradients)-2, -1, -1):\n",
    "        x *= discount_factor\n",
    "        gradients[i][0] *= x\n"
   ]
  },
  {
   "cell_type": "code",
   "execution_count": 364,
   "metadata": {},
   "outputs": [
    {
     "name": "stdout",
     "output_type": "stream",
     "text": [
      "Episode 0, Score 1\n"
     ]
    }
   ],
   "source": [
    "env = gym.make(\"ALE/Pong-v5\", obs_type=\"grayscale\")\n",
    "observation, _ = env.reset()\n",
    "\n",
    "# policy = MLP(6400, 200)\n",
    "with open('model.pickle', 'rb') as file:\n",
    "    policy = pickle.load(file)\n",
    "\n",
    "episode_number = 0\n",
    "game_number = 0\n",
    "frame_number = 0\n",
    "\n",
    "score = 0\n",
    "while episode_number < episodes:\n",
    "    observation = preprocess(np.array(observation))\n",
    "    if frame_number < 2:\n",
    "        action = env.action_space.sample()\n",
    "    else:\n",
    "        x = observation-prev_observation\n",
    "        # x -= x.mean()\n",
    "        # if x.std() != 0.0:\n",
    "        #     x /= x.std()\n",
    "        if frame_number == 2 and game_number == 0:\n",
    "            policy.reset_grad()\n",
    "            action, y = policy.choose_action(x)\n",
    "            input = [x]\n",
    "            output = [[y]]\n",
    "            actions = [[1.0 if action==2 else -1.0]] # 1 gradient for up, -1 gradient for down\n",
    "            # actions = [[(1.0 if action==2 else 0)-y]]\n",
    "        else:\n",
    "            action, y = policy.choose_action(x)\n",
    "            input.append(x)\n",
    "            output.append([y])\n",
    "            if frame_number == 2:\n",
    "                actions = [[1.0 if action==2 else -1.0]]\n",
    "                # actions = [[(1.0 if action==2 else 0)-y]]\n",
    "            else:\n",
    "                actions.append([1.0 if action==2 else -1.0])\n",
    "                # actions.append([(1.0 if action==2 else 0)-y])\n",
    "\n",
    "\n",
    "    prev_observation = observation\n",
    "    observation, reward, terminated, truncated, _ = env.step(action)\n",
    "    frame_number += 1\n",
    "    \n",
    "    if reward != 0:\n",
    "        frame_number = 0\n",
    "        if game_number == 0:\n",
    "            gradients = np.array(actions)*reward\n",
    "            discount_gradients(gradients)\n",
    "        else:\n",
    "            temp = np.array(actions)*reward\n",
    "            discount_gradients(temp)\n",
    "            gradients = np.vstack((gradients, temp))\n",
    "        game_number += 1\n",
    "\n",
    "        if reward == 1:\n",
    "            score += 1\n",
    "\n",
    "    if terminated or truncated:\n",
    "        gradients -= gradients.mean()\n",
    "        gradients /= gradients.std()\n",
    "        policy.backprop(np.array(input), np.array(output), gradients)\n",
    "\n",
    "        observation, _ = env.reset()\n",
    "        print(f'Episode {episode_number}, Score {score}')\n",
    "        episode_number += 1\n",
    "        score = 0\n",
    "        game_number = 0\n",
    "env.close()"
   ]
  },
  {
   "cell_type": "code",
   "execution_count": 362,
   "metadata": {},
   "outputs": [
    {
     "name": "stdout",
     "output_type": "stream",
     "text": [
      "0.02728428189705616 -0.029857684589700454\n",
      "0.09916244796665824 -0.10049147074110464\n",
      "0.11635642581361665 -0.11387816246619648\n",
      "-0.0007872404498533888\n",
      "1.9159107137136776e-05\n",
      "-0.0019788094303472997\n"
     ]
    }
   ],
   "source": [
    "print(policy.B1.max(), policy.B1.min())\n",
    "print(policy.W1.max(), policy.W1.min())\n",
    "print(policy.W2.max(), policy.W2.min())\n",
    "print(policy.B1.mean())\n",
    "print(policy.W1.mean())\n",
    "print(policy.W2.mean())"
   ]
  },
  {
   "cell_type": "code",
   "execution_count": 365,
   "metadata": {},
   "outputs": [
    {
     "name": "stdout",
     "output_type": "stream",
     "text": [
      "input mean - 1.6844327547005378e-05, input std - 0.0650051012635231\n",
      "-0.0007765349091371393 0.10507480356210032\n",
      "-0.0007746931088441452 0.10365626493765792\n",
      "-0.00558767590564606 0.052642883754567514\n",
      "0.4986038 0.013149314\n"
     ]
    },
    {
     "data": {
      "text/plain": [
       "(array([ 0.38974065,  0.38974065,  0.38974065,  0.        ,  0.77948131,\n",
       "         1.94870327,  0.        ,  1.55896261,  2.33844392,  2.72818457,\n",
       "         3.11792523,  4.28714719,  3.50766588, 10.9127383 ,  7.01533176,\n",
       "        13.64092287, 16.7588481 , 19.87677333, 17.14858875, 25.33314248,\n",
       "        26.11262378, 28.4510677 , 43.26121254, 43.26121254, 43.65095319,\n",
       "        23.38443921, 25.33314248, 20.26651398, 14.42040418, 15.58962614,\n",
       "        14.42040418,  8.96403503,  7.79481307,  8.18455372,  7.79481307,\n",
       "         6.62559111,  4.67688784,  2.33844392,  3.11792523,  0.77948131,\n",
       "         1.16922196,  0.38974065,  1.16922196,  0.77948131,  0.        ,\n",
       "         0.        ,  0.        ,  0.        ,  0.        ,  0.38974065]),\n",
       " array([0.45036131, 0.45242552, 0.45448972, 0.45655393, 0.45861814,\n",
       "        0.46068234, 0.46274655, 0.46481076, 0.46687496, 0.46893917,\n",
       "        0.47100338, 0.47306758, 0.47513179, 0.477196  , 0.4792602 ,\n",
       "        0.48132441, 0.48338862, 0.48545282, 0.48751703, 0.48958124,\n",
       "        0.49164544, 0.49370965, 0.49577386, 0.49783806, 0.49990227,\n",
       "        0.50196648, 0.50403068, 0.50609489, 0.5081591 , 0.5102233 ,\n",
       "        0.51228751, 0.51435172, 0.51641592, 0.51848013, 0.52054434,\n",
       "        0.52260854, 0.52467275, 0.52673696, 0.52880116, 0.53086537,\n",
       "        0.53292958, 0.53499378, 0.53705799, 0.5391222 , 0.5411864 ,\n",
       "        0.54325061, 0.54531482, 0.54737902, 0.54944323, 0.55150743,\n",
       "        0.55357164]),\n",
       " <BarContainer object of 50 artists>)"
      ]
     },
     "execution_count": 365,
     "metadata": {},
     "output_type": "execute_result"
    },
    {
     "data": {
      "image/png": "[encoded data removed]",
      "text/plain": [
       "<Figure size 2000x500 with 5 Axes>"
      ]
     },
     "metadata": {},
     "output_type": "display_data"
    }
   ],
   "source": [
    "\n",
    "input = np.array(input)\n",
    "output = np.array(output)\n",
    "policy.temp = np.array(policy.temp)\n",
    "policy.h = np.array(policy.h)\n",
    "policy.h2 = np.array(policy.h2)\n",
    "print(f'input mean - {input.mean()}, input std - {input.std()}')\n",
    "print(policy.temp.reshape(-1).mean(), policy.temp.reshape(-1).std())\n",
    "print(policy.h.reshape(-1).mean(), policy.h.reshape(-1).std())\n",
    "print(policy.h2.reshape(-1).mean(), policy.h2.reshape(-1).std())\n",
    "print(output.reshape(-1).mean(), output.reshape(-1).std())\n",
    "\n",
    "plt.figure(figsize=(20, 5))\n",
    "plt.subplot(151)\n",
    "plt.hist(input.reshape(-1).tolist(), 50, density=True)\n",
    "plt.subplot(152)\n",
    "plt.hist(policy.temp.reshape(-1).tolist(), 50, density=True)\n",
    "plt.subplot(153)\n",
    "plt.hist(policy.h.reshape(-1).tolist(), 50, density=True)\n",
    "plt.subplot(154)\n",
    "plt.hist(policy.h2.reshape(-1).tolist(), 50, density=True)\n",
    "plt.subplot(155)\n",
    "plt.hist(output.reshape(-1).tolist(), 50, density=True)\n"
   ]
  },
  {
   "cell_type": "code",
   "execution_count": null,
   "metadata": {},
   "outputs": [
    {
     "name": "stdout",
     "output_type": "stream",
     "text": [
      "0.0017804291227536586\n",
      "1.9944205731808682\n"
     ]
    },
    {
     "data": {
      "text/plain": [
       "(array([ 1.13228252,  0.        ,  0.        ,  0.        ,  0.        ,\n",
       "         0.        ,  0.        ,  1.13228252,  0.        ,  0.        ,\n",
       "         0.        ,  0.        ,  0.        ,  0.        ,  0.        ,\n",
       "         0.        ,  0.        ,  0.        ,  0.        ,  0.        ,\n",
       "         0.        ,  0.        ,  0.        ,  0.        ,  0.        ,\n",
       "         2.26456503,  0.        ,  0.        ,  1.13228252,  0.        ,\n",
       "         0.        ,  0.        ,  0.        ,  0.        ,  2.26456503,\n",
       "         2.26456503,  1.13228252,  2.26456503,  3.39684755,  1.13228252,\n",
       "         0.        ,  1.13228252,  4.52913006,  4.52913006, 10.19054264,\n",
       "        11.32282516, 36.23304052, 84.92118871, 14.71967271, 14.71967271,\n",
       "         4.52913006,  4.52913006,  1.13228252,  1.13228252,  2.26456503,\n",
       "         1.13228252,  1.13228252,  1.13228252,  1.13228252,  2.26456503,\n",
       "         1.13228252,  0.        ,  0.        ,  1.13228252,  0.        ,\n",
       "         0.        ,  0.        ,  0.        ,  1.13228252,  1.13228252,\n",
       "         0.        ,  0.        ,  0.        ,  0.        ,  0.        ,\n",
       "         0.        ,  0.        ,  0.        ,  0.        ,  0.        ,\n",
       "         0.        ,  0.        ,  0.        ,  0.        ,  0.        ,\n",
       "         0.        ,  0.        ,  0.        ,  0.        ,  0.        ,\n",
       "         0.        ,  0.        ,  0.        ,  0.        ,  0.        ,\n",
       "         0.        ,  0.        ,  0.        ,  0.        ,  1.13228252]),\n",
       " array([-0.20882871, -0.20441285, -0.19999699, -0.19558113, -0.19116527,\n",
       "        -0.18674941, -0.18233356, -0.1779177 , -0.17350184, -0.16908598,\n",
       "        -0.16467012, -0.16025426, -0.1558384 , -0.15142254, -0.14700668,\n",
       "        -0.14259082, -0.13817496, -0.13375911, -0.12934325, -0.12492739,\n",
       "        -0.12051153, -0.11609567, -0.11167981, -0.10726395, -0.10284809,\n",
       "        -0.09843223, -0.09401637, -0.08960052, -0.08518466, -0.0807688 ,\n",
       "        -0.07635294, -0.07193708, -0.06752122, -0.06310536, -0.0586895 ,\n",
       "        -0.05427364, -0.04985778, -0.04544192, -0.04102607, -0.03661021,\n",
       "        -0.03219435, -0.02777849, -0.02336263, -0.01894677, -0.01453091,\n",
       "        -0.01011505, -0.00569919, -0.00128333,  0.00313252,  0.00754838,\n",
       "         0.01196424,  0.0163801 ,  0.02079596,  0.02521182,  0.02962768,\n",
       "         0.03404354,  0.0384594 ,  0.04287526,  0.04729112,  0.05170697,\n",
       "         0.05612283,  0.06053869,  0.06495455,  0.06937041,  0.07378627,\n",
       "         0.07820213,  0.08261799,  0.08703385,  0.09144971,  0.09586557,\n",
       "         0.10028142,  0.10469728,  0.10911314,  0.113529  ,  0.11794486,\n",
       "         0.12236072,  0.12677658,  0.13119244,  0.1356083 ,  0.14002416,\n",
       "         0.14444001,  0.14885587,  0.15327173,  0.15768759,  0.16210345,\n",
       "         0.16651931,  0.17093517,  0.17535103,  0.17976689,  0.18418275,\n",
       "         0.18859861,  0.19301446,  0.19743032,  0.20184618,  0.20626204,\n",
       "         0.2106779 ,  0.21509376,  0.21950962,  0.22392548,  0.22834134,\n",
       "         0.2327572 ]),\n",
       " <BarContainer object of 100 artists>)"
      ]
     },
     "execution_count": 352,
     "metadata": {},
     "output_type": "execute_result"
    },
    {
     "data": {
      "image/png": "[encoded data removed]",
      "text/plain": [
       "<Figure size 2000x500 with 1 Axes>"
      ]
     },
     "metadata": {},
     "output_type": "display_data"
    }
   ],
   "source": [
    "plt.figure(figsize=(20, 5))\n",
    "# plt.hist(policy.dB1.reshape(-1).tolist(), 100, density=True)\n",
    "policy.dW1 /= 2*policy.dW1.std()\n",
    "print(policy.dW1[abs(policy.dW1)>1e-1].mean())\n",
    "print(policy.dW1[abs(policy.dW1)>1e-1].std())\n",
    "\n",
    "plt.hist(policy.dW1[abs(policy.dW1)>1e-1].reshape(-1).tolist(), 50, density=True)\n",
    "plt.hist(policy.dW2.reshape(-1).tolist(), 100, density=True)\n",
    "plt.hist(policy.dB1.reshape(-1).tolist(), 100, density=True)\n",
    "# plt.hist(policy.dB2.reshape(-1).tolist(), 100, density=True)"
   ]
  },
  {
   "cell_type": "code",
   "execution_count": 339,
   "metadata": {},
   "outputs": [
    {
     "name": "stdout",
     "output_type": "stream",
     "text": [
      "0.0\n",
      "0\n",
      "(964, 200)\n"
     ]
    },
    {
     "data": {
      "image/png": "[encoded data removed]",
      "text/plain": [
       "<Figure size 2000x1000 with 1 Axes>"
      ]
     },
     "metadata": {},
     "output_type": "display_data"
    }
   ],
   "source": [
    "plt.figure(figsize=(20,10))\n",
    "plt.imshow(np.abs(policy.h) > 0.98, cmap='gray', interpolation='nearest')\n",
    "print((np.abs(policy.h) > 0.98).sum() / policy.h.size)\n",
    "print((np.abs(policy.h) > 0.98).sum())\n",
    "print(policy.h.shape)"
   ]
  },
  {
   "cell_type": "code",
   "execution_count": null,
   "metadata": {},
   "outputs": [],
   "source": []
  }
 ],
 "metadata": {
  "kernelspec": {
   "display_name": "directml",
   "language": "python",
   "name": "python3"
  },
  "language_info": {
   "codemirror_mode": {
    "name": "ipython",
    "version": 3
   },
   "file_extension": ".py",
   "mimetype": "text/x-python",
   "name": "python",
   "nbconvert_exporter": "python",
   "pygments_lexer": "ipython3",
   "version": "3.11.3"
  }
 },
 "nbformat": 4,
 "nbformat_minor": 2
}
